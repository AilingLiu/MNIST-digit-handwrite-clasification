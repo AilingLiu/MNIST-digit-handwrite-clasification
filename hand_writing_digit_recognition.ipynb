{
  "nbformat": 4,
  "nbformat_minor": 0,
  "metadata": {
    "colab": {
      "name": "hand_writing_digit_recognition.ipynb",
      "provenance": [],
      "collapsed_sections": [],
      "toc_visible": true,
      "include_colab_link": true
    },
    "kernelspec": {
      "name": "python3",
      "display_name": "Python 3"
    }
  },
  "cells": [
    {
      "cell_type": "markdown",
      "metadata": {
        "id": "view-in-github",
        "colab_type": "text"
      },
      "source": [
        "<a href=\"https://colab.research.google.com/github/AilingLiu/MNIST-digit-handwrite-clasification/blob/master/hand_writing_digit_recognition.ipynb\" target=\"_parent\"><img src=\"https://colab.research.google.com/assets/colab-badge.svg\" alt=\"Open In Colab\"/></a>"
      ]
    },
    {
      "cell_type": "markdown",
      "metadata": {
        "id": "2IVaRJ5FgQhw",
        "colab_type": "text"
      },
      "source": [
        "This project is following the tutorial from O'Reilly **Hands-on Machine Learning with Scikit-Learn, Keras & TensorFlow** chapter three. I am also trying to write my own codes which are not written in the book. But it should be available on his github. So you can check his github directly."
      ]
    },
    {
      "cell_type": "markdown",
      "metadata": {
        "id": "5IuYPGFyglAm",
        "colab_type": "text"
      },
      "source": [
        "In this project, we will build an end-to-end classification model on MNIST hand-writing digit datasets."
      ]
    },
    {
      "cell_type": "markdown",
      "metadata": {
        "id": "3ZuPgs_e96-P",
        "colab_type": "text"
      },
      "source": [
        "# Set up"
      ]
    },
    {
      "cell_type": "code",
      "metadata": {
        "id": "4MTm-LWH96L1",
        "colab_type": "code",
        "colab": {}
      },
      "source": [
        "import sys\n",
        "import sklearn\n",
        "assert(sys.version_info >= (3, 5)) # python 3.5+\n",
        "assert(sklearn.__version__ >= '0.20')\n",
        "\n",
        "import matplotlib as mpl\n",
        "import matplotlib.pyplot as plt\n",
        "%matplotlib inline\n",
        "mpl.rc('axes', labelsize=12)\n",
        "mpl.rc('xtick', labelsize=12)\n",
        "mpl.rc('ytick', labelsize=12)\n",
        "\n",
        "import os\n",
        "PROJECT_ROOT_DIR = '.'\n",
        "CHAPTER_ID = 'MNIST'\n",
        "PROJECT_DIR = os.path.join(PROJECT_ROOT_DIR, CHAPTER_ID)\n",
        "if not os.path.isdir(PROJECT_DIR):\n",
        "  os.makedirs(PROJECT_DIR)\n",
        "\n",
        "# where to save images\n",
        "IMAGE_DIR = os.path.join(PROJECT_DIR, 'IMAGES')\n",
        "if not os.path.isdir(IMAGE_DIR):\n",
        "  os.makedirs(IMAGE_DIR)\n",
        "\n",
        "def save_fig(name, folder=IMAGE_DIR, format='png', tight_layout=True, dpi=300):\n",
        "  path=os.path.join(folder, name + '.' + format)\n",
        "  if not os.path.isdir(folder):\n",
        "    os.makedirs(folder)\n",
        "  if tight_layout:\n",
        "    plt.tight_layout()\n",
        "  plt.savefig(path, dpi=dpi, format=format)"
      ],
      "execution_count": 0,
      "outputs": []
    },
    {
      "cell_type": "markdown",
      "metadata": {
        "id": "xKC6Jy11g5cG",
        "colab_type": "text"
      },
      "source": [
        "# Get Data"
      ]
    },
    {
      "cell_type": "code",
      "metadata": {
        "id": "PGTQrFzVg6p-",
        "colab_type": "code",
        "outputId": "302e3282-5874-4fb9-f7b8-0b4b39e7b5ff",
        "colab": {
          "base_uri": "https://localhost:8080/",
          "height": 34
        }
      },
      "source": [
        "from sklearn.datasets import fetch_openml\n",
        "mnist = fetch_openml('mnist_784', version=1)\n",
        "mnist.keys()"
      ],
      "execution_count": 11,
      "outputs": [
        {
          "output_type": "execute_result",
          "data": {
            "text/plain": [
              "dict_keys(['data', 'target', 'feature_names', 'DESCR', 'details', 'categories', 'url'])"
            ]
          },
          "metadata": {
            "tags": []
          },
          "execution_count": 11
        }
      ]
    },
    {
      "cell_type": "code",
      "metadata": {
        "id": "el4Iyfargjfn",
        "colab_type": "code",
        "outputId": "818dc1f0-9d6d-4ea9-a14b-16c0f4e1c5c7",
        "colab": {
          "base_uri": "https://localhost:8080/",
          "height": 34
        }
      },
      "source": [
        "X, y = mnist['data'], mnist['target']\n",
        "X.shape"
      ],
      "execution_count": 12,
      "outputs": [
        {
          "output_type": "execute_result",
          "data": {
            "text/plain": [
              "(70000, 784)"
            ]
          },
          "metadata": {
            "tags": []
          },
          "execution_count": 12
        }
      ]
    },
    {
      "cell_type": "markdown",
      "metadata": {
        "id": "sG_ulI0Qiv1g",
        "colab_type": "text"
      },
      "source": [
        "This dataset has 70,000 images, each image has 784 features. That is because each image is 28 x 28 pixels. Each feature contains a pixel's value, from 0(white) to 255(black). "
      ]
    },
    {
      "cell_type": "code",
      "metadata": {
        "id": "572lgukFimRP",
        "colab_type": "code",
        "outputId": "3f6af303-3105-48c6-ffa1-61e9a7637a94",
        "colab": {
          "base_uri": "https://localhost:8080/",
          "height": 248
        }
      },
      "source": [
        "import matplotlib as mpl\n",
        "import matplotlib.pyplot as plt\n",
        "\n",
        "some_digit = X[0]\n",
        "some_digit_image = some_digit.reshape(28, 28)\n",
        "plt.imshow(some_digit_image, cmap='binary')\n",
        "plt.axis('off')\n",
        "plt.show()\n",
        "#fig, axes = plt.subplots(5, 5, figsize=(25, 25))\n"
      ],
      "execution_count": 14,
      "outputs": [
        {
          "output_type": "display_data",
          "data": {
            "image/png": "[encoded data removed]",
            "text/plain": [
              "<Figure size 432x288 with 1 Axes>"
            ]
          },
          "metadata": {
            "tags": []
          }
        }
      ]
    },
    {
      "cell_type": "code",
      "metadata": {
        "id": "F04zCG7wis1O",
        "colab_type": "code",
        "outputId": "01646302-fd37-477f-e0fe-9c626d236efb",
        "colab": {
          "base_uri": "https://localhost:8080/",
          "height": 34
        }
      },
      "source": [
        "#looks like a five\n",
        "y[0]"
      ],
      "execution_count": 0,
      "outputs": [
        {
          "output_type": "execute_result",
          "data": {
            "text/plain": [
              "'5'"
            ]
          },
          "metadata": {
            "tags": []
          },
          "execution_count": 7
        }
      ]
    },
    {
      "cell_type": "code",
      "metadata": {
        "id": "cU32tagbjudO",
        "colab_type": "code",
        "colab": {}
      },
      "source": [
        "import numpy as np\n",
        "# change the data type of label from string to number since most of the ml algorithms expect numbers\n",
        "y = y.astype(np.uint8)"
      ],
      "execution_count": 0,
      "outputs": []
    },
    {
      "cell_type": "code",
      "metadata": {
        "id": "Orxtvkvuj5dU",
        "colab_type": "code",
        "outputId": "c0d92937-beb2-4a0d-9e31-312634b08d7e",
        "colab": {
          "base_uri": "https://localhost:8080/",
          "height": 873
        }
      },
      "source": [
        "import random\n",
        "random_image_index = random.sample(range(70000), 100)\n",
        "\n",
        "fig = plt.figure(figsize=(12, 12))\n",
        "\n",
        "for i in range(100):\n",
        "  image = X[random_image_index[i]].reshape(28, 28)\n",
        "  ax = fig.add_subplot(10, 10, i+1)\n",
        "  ax.imshow(image, cmap='binary')\n",
        "  ax.axis('off')\n",
        "\n",
        "save_fig('minist_100_random_sample_images')"
      ],
      "execution_count": 18,
      "outputs": [
        {
          "output_type": "display_data",
          "data": {
            "image/png": "[encoded data removed]",
            "text/plain": [
              "<Figure size 864x864 with 100 Axes>"
            ]
          },
          "metadata": {
            "tags": []
          }
        }
      ]
    },
    {
      "cell_type": "markdown",
      "metadata": {
        "id": "ssyydP9VqLOT",
        "colab_type": "text"
      },
      "source": [
        "Above shows 100 examples from our dataset. I personally think some of them are not easy to identify as human, for example, the sixth image in the first row looks like 4, 9, or even 7. Let's see how our model is gonna perform, hopefull better than human. We will need to split the dataset into train and test set. Fortunately, MNIST dataset makes it easy for us by already spliting the first 60,000 as train, and the remaining 10000 as test. And the train set has already shuffled! Sweet."
      ]
    },
    {
      "cell_type": "code",
      "metadata": {
        "id": "J7CagY6EpAdA",
        "colab_type": "code",
        "colab": {}
      },
      "source": [
        "X_train, X_test, y_train, y_test = X[:60000], X[60000:], y[:60000], y[60000:]"
      ],
      "execution_count": 0,
      "outputs": []
    },
    {
      "cell_type": "markdown",
      "metadata": {
        "id": "sLUgB_dPu2Wa",
        "colab_type": "text"
      },
      "source": [
        "# Train a binary classifier for number 5"
      ]
    },
    {
      "cell_type": "code",
      "metadata": {
        "id": "mbv3J5cNpF5U",
        "colab_type": "code",
        "colab": {}
      },
      "source": [
        "y_train_five = (y_train == 5)\n",
        "y_test_five = (y_test == 5)"
      ],
      "execution_count": 0,
      "outputs": []
    },
    {
      "cell_type": "code",
      "metadata": {
        "id": "clJafKE3tdIz",
        "colab_type": "code",
        "outputId": "660437c6-8f92-4d57-c247-de6815c0d28f",
        "colab": {
          "base_uri": "https://localhost:8080/",
          "height": 119
        }
      },
      "source": [
        "from sklearn.linear_model import SGDClassifier\n",
        "\n",
        "sgd_clf = SGDClassifier(random_state=42)\n",
        "sgd_clf.fit(X_train, y_train_five)"
      ],
      "execution_count": 21,
      "outputs": [
        {
          "output_type": "execute_result",
          "data": {
            "text/plain": [
              "SGDClassifier(alpha=0.0001, average=False, class_weight=None,\n",
              "              early_stopping=False, epsilon=0.1, eta0=0.0, fit_intercept=True,\n",
              "              l1_ratio=0.15, learning_rate='optimal', loss='hinge',\n",
              "              max_iter=1000, n_iter_no_change=5, n_jobs=None, penalty='l2',\n",
              "              power_t=0.5, random_state=42, shuffle=True, tol=0.001,\n",
              "              validation_fraction=0.1, verbose=0, warm_start=False)"
            ]
          },
          "metadata": {
            "tags": []
          },
          "execution_count": 21
        }
      ]
    },
    {
      "cell_type": "code",
      "metadata": {
        "id": "j4a_wbVOvLDk",
        "colab_type": "code",
        "outputId": "48a6fc8f-be24-40be-9dcf-4af2f999937a",
        "colab": {
          "base_uri": "https://localhost:8080/",
          "height": 34
        }
      },
      "source": [
        "sgd_clf.predict([X_train[np.argmax(y_train_five)]])"
      ],
      "execution_count": 25,
      "outputs": [
        {
          "output_type": "execute_result",
          "data": {
            "text/plain": [
              "array([ True])"
            ]
          },
          "metadata": {
            "tags": []
          },
          "execution_count": 25
        }
      ]
    },
    {
      "cell_type": "markdown",
      "metadata": {
        "id": "0SmwGPq5wKMV",
        "colab_type": "text"
      },
      "source": [
        "It works."
      ]
    },
    {
      "cell_type": "markdown",
      "metadata": {
        "id": "2f9sS60twQnQ",
        "colab_type": "text"
      },
      "source": [
        "# Performance measures"
      ]
    },
    {
      "cell_type": "markdown",
      "metadata": {
        "id": "rRPTdYK8wTOr",
        "colab_type": "text"
      },
      "source": [
        "## Measuring Acuracy Using Cross-Validation"
      ]
    },
    {
      "cell_type": "code",
      "metadata": {
        "id": "s77yOAjhvo5a",
        "colab_type": "code",
        "outputId": "50978bbb-fc64-4ceb-bc20-835924e5fbb5",
        "colab": {
          "base_uri": "https://localhost:8080/",
          "height": 68
        }
      },
      "source": [
        "# implement cross-validation\n",
        "\n",
        "from sklearn.model_selection import StratifiedKFold\n",
        "from sklearn.base import clone\n",
        "\n",
        "sgd_clf = SGDClassifier(random_state=42)\n",
        "\n",
        "skfolds = StratifiedKFold(n_splits=3, random_state=42)\n",
        "for train_index, test_index in skfolds.split(X_train, y_train_five):\n",
        "  clone_clf = clone(sgd_clf)\n",
        "  X_train_folds = X_train[train_index]\n",
        "  y_train_folds = y_train_five[train_index]\n",
        "  X_test_folds = X_train[test_index]\n",
        "  y_test_folds = y_train_five[test_index]\n",
        "\n",
        "  clone_clf.fit(X_train_folds, y_train_folds)\n",
        "  y_pred = clone_clf.predict(X_test_folds)\n",
        "  accuracy = sum(y_test_folds == y_pred)/len(y_test_folds)\n",
        "  print(accuracy)\n",
        "\n"
      ],
      "execution_count": 26,
      "outputs": [
        {
          "output_type": "stream",
          "text": [
            "0.95035\n",
            "0.96035\n",
            "0.9604\n"
          ],
          "name": "stdout"
        }
      ]
    },
    {
      "cell_type": "code",
      "metadata": {
        "id": "HO76BbLVxhY2",
        "colab_type": "code",
        "outputId": "617b66de-d5a5-4e3a-9bdb-e3a1f401b504",
        "colab": {
          "base_uri": "https://localhost:8080/",
          "height": 34
        }
      },
      "source": [
        "# we can use sklearn to do the above\n",
        "from sklearn.model_selection import cross_val_score\n",
        "\n",
        "cross_val_score(sgd_clf, X_train, y_train, scoring='accuracy', cv=3)"
      ],
      "execution_count": 0,
      "outputs": [
        {
          "output_type": "execute_result",
          "data": {
            "text/plain": [
              "array([0.87082583, 0.87089354, 0.88628294])"
            ]
          },
          "metadata": {
            "tags": []
          },
          "execution_count": 36
        }
      ]
    },
    {
      "cell_type": "markdown",
      "metadata": {
        "id": "S16I_0Lezr3a",
        "colab_type": "text"
      },
      "source": [
        "The accuracy looks good. But that's not real. We can make a dump classifier that never predict 5, i.e. makes all the prediction as false."
      ]
    },
    {
      "cell_type": "code",
      "metadata": {
        "id": "bVp-lqTmzO_W",
        "colab_type": "code",
        "colab": {}
      },
      "source": [
        "from sklearn.base import BaseEstimator\n",
        "\n",
        "class NeverFiveClassifier(BaseEstimator):\n",
        "  def fit(self, X, y=None):\n",
        "    return self\n",
        "  def predict(self, X):\n",
        "    return np.zeros((len(X), 1), dtype=bool)"
      ],
      "execution_count": 0,
      "outputs": []
    },
    {
      "cell_type": "code",
      "metadata": {
        "id": "aKmWfdl9z--z",
        "colab_type": "code",
        "outputId": "1c3633e2-7f53-4056-db20-4d86caeeb0f5",
        "colab": {
          "base_uri": "https://localhost:8080/",
          "height": 34
        }
      },
      "source": [
        "never_five_clf = NeverFiveClassifier()\n",
        "cross_val_score(never_five_clf, X_train, y_train_five, cv=3, scoring='accuracy')"
      ],
      "execution_count": 0,
      "outputs": [
        {
          "output_type": "execute_result",
          "data": {
            "text/plain": [
              "array([0.91125, 0.90855, 0.90915])"
            ]
          },
          "metadata": {
            "tags": []
          },
          "execution_count": 39
        }
      ]
    },
    {
      "cell_type": "markdown",
      "metadata": {
        "id": "BAkhHGMD296a",
        "colab_type": "text"
      },
      "source": [
        "It's actually better than before. The reason for that is there is only 10% of dataset that contains 5. Such imbalanced dataset, using accuracy is bad idea."
      ]
    },
    {
      "cell_type": "markdown",
      "metadata": {
        "id": "kZHjzlLK4s_L",
        "colab_type": "text"
      },
      "source": [
        "## confusion matrix"
      ]
    },
    {
      "cell_type": "code",
      "metadata": {
        "id": "-BCsMf7926_c",
        "colab_type": "code",
        "colab": {}
      },
      "source": [
        "# use cross_val_predict so instead of getting scores, you get the predictions from each test fold\n",
        "\n",
        "from sklearn.model_selection import cross_val_predict\n",
        "\n",
        "y_train_predict = cross_val_predict(sgd_clf, X_train, y_train_five, cv=3)"
      ],
      "execution_count": 0,
      "outputs": []
    },
    {
      "cell_type": "code",
      "metadata": {
        "id": "l7XvLvTx3T8u",
        "colab_type": "code",
        "outputId": "5b2e467a-d9c2-4879-c5e5-dd2ebc3fda89",
        "colab": {
          "base_uri": "https://localhost:8080/",
          "height": 51
        }
      },
      "source": [
        "from sklearn.metrics import confusion_matrix\n",
        "confusion_matrix(y_train_five, y_train_predict)"
      ],
      "execution_count": 0,
      "outputs": [
        {
          "output_type": "execute_result",
          "data": {
            "text/plain": [
              "array([[53892,   687],\n",
              "       [ 1891,  3530]])"
            ]
          },
          "metadata": {
            "tags": []
          },
          "execution_count": 43
        }
      ]
    },
    {
      "cell_type": "markdown",
      "metadata": {
        "id": "JkMRcWSJ5-xy",
        "colab_type": "text"
      },
      "source": [
        "## precision and recall"
      ]
    },
    {
      "cell_type": "code",
      "metadata": {
        "id": "dEGaySzg5Svz",
        "colab_type": "code",
        "outputId": "36d2ebf4-a59d-4ed0-b709-695e393422bb",
        "colab": {
          "base_uri": "https://localhost:8080/",
          "height": 34
        }
      },
      "source": [
        "from sklearn.metrics import precision_score, recall_score\n",
        "\n",
        "precision_score(y_train_five, y_train_predict)"
      ],
      "execution_count": 0,
      "outputs": [
        {
          "output_type": "execute_result",
          "data": {
            "text/plain": [
              "0.8370879772350012"
            ]
          },
          "metadata": {
            "tags": []
          },
          "execution_count": 45
        }
      ]
    },
    {
      "cell_type": "code",
      "metadata": {
        "id": "L7uKeqlA6Gh4",
        "colab_type": "code",
        "outputId": "510c2247-49e1-4962-c736-463df4faf311",
        "colab": {
          "base_uri": "https://localhost:8080/",
          "height": 34
        }
      },
      "source": [
        "recall_score(y_train_five, y_train_predict)"
      ],
      "execution_count": 0,
      "outputs": [
        {
          "output_type": "execute_result",
          "data": {
            "text/plain": [
              "0.6511713705958311"
            ]
          },
          "metadata": {
            "tags": []
          },
          "execution_count": 46
        }
      ]
    },
    {
      "cell_type": "markdown",
      "metadata": {
        "id": "OViR5GQR6Ry-",
        "colab_type": "text"
      },
      "source": [
        "Now we can see the recall is much less than the precision score, and the accuracy score earlier. We can use F1 score which is the harmonic mean of precision and recall, and it gives much more weight to the low score."
      ]
    },
    {
      "cell_type": "code",
      "metadata": {
        "id": "gUUmP-tc6Qx4",
        "colab_type": "code",
        "outputId": "187679b0-c646-4f84-c69e-0976cc5b4dc3",
        "colab": {
          "base_uri": "https://localhost:8080/",
          "height": 34
        }
      },
      "source": [
        "from sklearn.metrics import f1_score\n",
        "\n",
        "f1_score(y_train_five, y_train_predict)"
      ],
      "execution_count": 0,
      "outputs": [
        {
          "output_type": "execute_result",
          "data": {
            "text/plain": [
              "0.7325171197343846"
            ]
          },
          "metadata": {
            "tags": []
          },
          "execution_count": 48
        }
      ]
    },
    {
      "cell_type": "markdown",
      "metadata": {
        "id": "2BQA6YW-8a7Z",
        "colab_type": "text"
      },
      "source": [
        "## precision and recall tradeoff"
      ]
    },
    {
      "cell_type": "code",
      "metadata": {
        "id": "93pKZQWb6ls_",
        "colab_type": "code",
        "colab": {}
      },
      "source": [
        "# we can use decision_function which can return the scores from which our classifier made the prediction, so that we can try to find the threshold to make better prediction.\n",
        "from sklearn.model_selection import cross_val_predict\n",
        "y_scores = cross_val_predict(sgd_clf, X_train, y_train_five, cv=3, method='decision_function')"
      ],
      "execution_count": 0,
      "outputs": []
    },
    {
      "cell_type": "code",
      "metadata": {
        "id": "Jy3sxmEr9Guk",
        "colab_type": "code",
        "colab": {}
      },
      "source": [
        "from sklearn.metrics import precision_recall_curve\n",
        "\n",
        "precision, recall, thresholds = precision_recall_curve(y_train_five, y_scores)"
      ],
      "execution_count": 0,
      "outputs": []
    },
    {
      "cell_type": "code",
      "metadata": {
        "id": "fg-HtQWd9f9z",
        "colab_type": "code",
        "outputId": "0cdfcc55-0e95-4108-a83e-ace5a110b34b",
        "colab": {
          "base_uri": "https://localhost:8080/",
          "height": 523
        }
      },
      "source": [
        "\n",
        "def plot_precision_recall_curve(precisions, recalls, thresholds):\n",
        "  plt.figure(figsize=(12, 8))\n",
        "  plt.plot(thresholds, precisions[:-1], 'b--', label='precision', linewidth=2)\n",
        "  plt.plot(thresholds, recalls[:-1], 'g-', label='recall', linewidth=2)\n",
        "  plt.xlabel('Threshold', fontweight='bold', fontsize=16)\n",
        "  plt.grid(True)\n",
        "  plt.legend(loc='center right', fontsize=16)\n",
        "  plt.axis([-50000, 50000, 0, 1])\n",
        "\n",
        "plot_precision_recall_curve(precision, recall, thresholds)\n",
        "plt.plot(3370, 0.9, 'ro')\n",
        "plt.plot(3370, 0.4798, 'ro')\n",
        "plt.plot([3370, 3370], [0, 0.9], \"r:\")\n",
        "plt.plot([-50000, 3370], [0.4798, 0.4798], 'r:')\n",
        "plt.plot([-50000, 3370], [0.9, 0.9], 'r:')"
      ],
      "execution_count": 0,
      "outputs": [
        {
          "output_type": "execute_result",
          "data": {
            "text/plain": [
              "[<matplotlib.lines.Line2D at 0x7f937b449ba8>]"
            ]
          },
          "metadata": {
            "tags": []
          },
          "execution_count": 78
        },
        {
          "output_type": "display_data",
          "data": {
            "image/png": "[encoded data removed]",
            "text/plain": [
              "<Figure size 864x576 with 1 Axes>"
            ]
          },
          "metadata": {
            "tags": []
          }
        }
      ]
    },
    {
      "cell_type": "markdown",
      "metadata": {
        "id": "WF_qLWOr-sIy",
        "colab_type": "text"
      },
      "source": [
        "Precision may be bumpier when the threshold increases. Here if we want to prioritize precison at 0.9, our recall will be about 0.4798. "
      ]
    },
    {
      "cell_type": "code",
      "metadata": {
        "id": "kkJjRGA69pnj",
        "colab_type": "code",
        "outputId": "1ea07303-01c9-4c96-b963-d84829a6a9df",
        "colab": {
          "base_uri": "https://localhost:8080/",
          "height": 34
        }
      },
      "source": [
        "np.argmax(precision>0.9)"
      ],
      "execution_count": 0,
      "outputs": [
        {
          "output_type": "execute_result",
          "data": {
            "text/plain": [
              "57075"
            ]
          },
          "metadata": {
            "tags": []
          },
          "execution_count": 79
        }
      ]
    },
    {
      "cell_type": "code",
      "metadata": {
        "id": "IXoV-mnZ9zTT",
        "colab_type": "code",
        "outputId": "5a4e5976-a046-438d-ef1c-f8be35b82bd7",
        "colab": {
          "base_uri": "https://localhost:8080/",
          "height": 34
        }
      },
      "source": [
        "threshold_at_90_precision = thresholds[np.argmax(precision>0.9)]\n",
        "y_train_pred_90 = (y_scores > threshold_at_90_precision)\n",
        "precision_score(y_train_five, y_train_pred_90)"
      ],
      "execution_count": 0,
      "outputs": [
        {
          "output_type": "execute_result",
          "data": {
            "text/plain": [
              "0.9"
            ]
          },
          "metadata": {
            "tags": []
          },
          "execution_count": 80
        }
      ]
    },
    {
      "cell_type": "code",
      "metadata": {
        "id": "SRbWfCtVCllW",
        "colab_type": "code",
        "outputId": "6ed01a38-0394-45e0-df55-032864760ef4",
        "colab": {
          "base_uri": "https://localhost:8080/",
          "height": 34
        }
      },
      "source": [
        "recall_score(y_train_five, y_train_pred_90)"
      ],
      "execution_count": 0,
      "outputs": [
        {
          "output_type": "execute_result",
          "data": {
            "text/plain": [
              "0.47980077476480354"
            ]
          },
          "metadata": {
            "tags": []
          },
          "execution_count": 81
        }
      ]
    },
    {
      "cell_type": "markdown",
      "metadata": {
        "id": "PItYHN29EW1q",
        "colab_type": "text"
      },
      "source": [
        "# roc curve"
      ]
    },
    {
      "cell_type": "code",
      "metadata": {
        "id": "edhUACmnEaBP",
        "colab_type": "code",
        "colab": {
          "base_uri": "https://localhost:8080/",
          "height": 297
        },
        "outputId": "6436c099-2b3b-4d47-8b4d-63ffe2fc9b38"
      },
      "source": [
        "from sklearn.metrics import roc_curve\n",
        "fpr, tpr, thresholds = roc_curve(y_train_five, y_scores)\n",
        "\n",
        "def plot_roc_curve(fpr, tpr, label=None):\n",
        "  plt.plot(fpr, tpr, label=label)\n",
        "  plt.plot([0, 1], [0, 1], 'k--')\n",
        "  plt.xlabel('FPR', fontweight='bold', fontsize=10)\n",
        "  plt.ylabel('TPR', fontweight='bold', fontsize=10)\n",
        "  plt.label(loc='lower right', fontsize=12)\n",
        "  plt.grid(True)\n",
        "\n",
        "plot_roc_curve(fpr, tpr)\n",
        "save_fig('roc_curve_with_sgd_clf')"
      ],
      "execution_count": 34,
      "outputs": [
        {
          "output_type": "display_data",
          "data": {
            "image/png": "[encoded data removed]",
            "text/plain": [
              "<Figure size 432x288 with 1 Axes>"
            ]
          },
          "metadata": {
            "tags": []
          }
        }
      ]
    },
    {
      "cell_type": "code",
      "metadata": {
        "id": "MqkPla-FEmdy",
        "colab_type": "code",
        "colab": {
          "base_uri": "https://localhost:8080/",
          "height": 34
        },
        "outputId": "f5f8fa51-5a93-47de-8c25-7f38d1c427e4"
      },
      "source": [
        "from sklearn.metrics import roc_auc_score\n",
        "roc_auc_score(y_train_five, y_scores)"
      ],
      "execution_count": 35,
      "outputs": [
        {
          "output_type": "execute_result",
          "data": {
            "text/plain": [
              "0.9604938554008616"
            ]
          },
          "metadata": {
            "tags": []
          },
          "execution_count": 35
        }
      ]
    },
    {
      "cell_type": "code",
      "metadata": {
        "id": "F4N6FqH5GC1D",
        "colab_type": "code",
        "colab": {
          "base_uri": "https://localhost:8080/",
          "height": 119
        },
        "outputId": "0fbcc7d2-3a87-4083-a150-3c73c3c831cb"
      },
      "source": [
        "# lets compare with Random Forest classifier\n",
        "from sklearn.ensemble import RandomForestClassifier\n",
        "forest_clf = RandomForestClassifier()\n",
        "\n",
        "y_proba_forest = cross_val_predict(forest_clf, X_train, y_train_five, cv=3, method='predict_proba')"
      ],
      "execution_count": 36,
      "outputs": [
        {
          "output_type": "stream",
          "text": [
            "/usr/local/lib/python3.6/dist-packages/sklearn/ensemble/forest.py:245: FutureWarning: The default value of n_estimators will change from 10 in version 0.20 to 100 in 0.22.\n",
            "  \"10 in version 0.20 to 100 in 0.22.\", FutureWarning)\n",
            "/usr/local/lib/python3.6/dist-packages/sklearn/ensemble/forest.py:245: FutureWarning: The default value of n_estimators will change from 10 in version 0.20 to 100 in 0.22.\n",
            "  \"10 in version 0.20 to 100 in 0.22.\", FutureWarning)\n",
            "/usr/local/lib/python3.6/dist-packages/sklearn/ensemble/forest.py:245: FutureWarning: The default value of n_estimators will change from 10 in version 0.20 to 100 in 0.22.\n",
            "  \"10 in version 0.20 to 100 in 0.22.\", FutureWarning)\n"
          ],
          "name": "stderr"
        }
      ]
    },
    {
      "cell_type": "code",
      "metadata": {
        "id": "9ECOHlypIRKP",
        "colab_type": "code",
        "colab": {
          "base_uri": "https://localhost:8080/",
          "height": 297
        },
        "outputId": "9e28295b-cf26-4a73-ea0d-8568a8dc2bf0"
      },
      "source": [
        "fpr_fr, tpr_fr, thresholds_fr = roc_curve(y_train_five, y_proba_forest[:, 1])\n",
        "\n",
        "plot_roc_curve(fpr, tpr, label='SGD')\n",
        "plt.plot(fpr_fr, tpr_fr, 'r:', linewidth=2, label='Random Forest')\n",
        "plt.legend(loc='lower right', fontsize=12)\n",
        "save_fig('roc_sgd_randfr')"
      ],
      "execution_count": 45,
      "outputs": [
        {
          "output_type": "display_data",
          "data": {
            "image/png": "[encoded data removed]",
            "text/plain": [
              "<Figure size 432x288 with 1 Axes>"
            ]
          },
          "metadata": {
            "tags": []
          }
        }
      ]
    },
    {
      "cell_type": "code",
      "metadata": {
        "id": "UMPZOGRoI1Z-",
        "colab_type": "code",
        "colab": {
          "base_uri": "https://localhost:8080/",
          "height": 34
        },
        "outputId": "1d485c60-f25f-4e6c-f655-951367da5135"
      },
      "source": [
        "roc_auc_score(y_train_five, y_proba_forest[:, 1])"
      ],
      "execution_count": 47,
      "outputs": [
        {
          "output_type": "execute_result",
          "data": {
            "text/plain": [
              "0.9928504266254536"
            ]
          },
          "metadata": {
            "tags": []
          },
          "execution_count": 47
        }
      ]
    },
    {
      "cell_type": "markdown",
      "metadata": {
        "id": "dpttMZVvJ_Qs",
        "colab_type": "text"
      },
      "source": [
        "Apparently, Random Forest has achieved better performance than SGD classifier."
      ]
    },
    {
      "cell_type": "markdown",
      "metadata": {
        "id": "UR6HbS17LjHU",
        "colab_type": "text"
      },
      "source": [
        "# Multiclassification"
      ]
    },
    {
      "cell_type": "code",
      "metadata": {
        "id": "FuW13a_KJ8Ca",
        "colab_type": "code",
        "colab": {
          "base_uri": "https://localhost:8080/",
          "height": 71
        },
        "outputId": "ee22f590-15a9-469b-a1b9-e0c6e3cbbfc9"
      },
      "source": [
        "from sklearn.svm import SVC\n",
        "svm_clf = SVC()\n",
        "svm_clf.fit(X_train, y_train)\n",
        "svm_clf.predict(X_train[234])"
      ],
      "execution_count": 0,
      "outputs": [
        {
          "output_type": "stream",
          "text": [
            "/usr/local/lib/python3.6/dist-packages/sklearn/svm/base.py:193: FutureWarning: The default value of gamma will change from 'auto' to 'scale' in version 0.22 to account better for unscaled features. Set gamma explicitly to 'auto' or 'scale' to avoid this warning.\n",
            "  \"avoid this warning.\", FutureWarning)\n"
          ],
          "name": "stderr"
        }
      ]
    },
    {
      "cell_type": "code",
      "metadata": {
        "id": "4lMlZzzCLrTI",
        "colab_type": "code",
        "colab": {}
      },
      "source": [
        "y_train[234]"
      ],
      "execution_count": 0,
      "outputs": []
    },
    {
      "cell_type": "code",
      "metadata": {
        "id": "519J2Q7YL_7v",
        "colab_type": "code",
        "colab": {}
      },
      "source": [
        "svm_clf.deciion_function(X_train[234])"
      ],
      "execution_count": 0,
      "outputs": []
    }
  ]
}