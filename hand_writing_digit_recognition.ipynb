{
  "nbformat": 4,
  "nbformat_minor": 0,
  "metadata": {
    "colab": {
      "name": "hand_writing_digit_recognition.ipynb",
      "provenance": [],
      "collapsed_sections": [],
      "include_colab_link": true
    },
    "kernelspec": {
      "name": "python3",
      "display_name": "Python 3"
    }
  },
  "cells": [
    {
      "cell_type": "markdown",
      "metadata": {
        "id": "view-in-github",
        "colab_type": "text"
      },
      "source": [
        "<a href=\"https://colab.research.google.com/github/AilingLiu/MNIST-digit-handwrite-clasification/blob/master/hand_writing_digit_recognition.ipynb\" target=\"_parent\"><img src=\"https://colab.research.google.com/assets/colab-badge.svg\" alt=\"Open In Colab\"/></a>"
      ]
    },
    {
      "cell_type": "markdown",
      "metadata": {
        "id": "2IVaRJ5FgQhw",
        "colab_type": "text"
      },
      "source": [
        "This project is following the tutorial from O'Reilly **Hands-on Machine Learning with Scikit-Learn, Keras & TensorFlow** chapter three. I am also trying to write my own codes which are not written in the book. But it should be available on his github. So you can check his github directly."
      ]
    },
    {
      "cell_type": "markdown",
      "metadata": {
        "id": "5IuYPGFyglAm",
        "colab_type": "text"
      },
      "source": [
        "In this project, we will build an end-to-end classification model on MNIST hand-writing digit datasets."
      ]
    },
    {
      "cell_type": "markdown",
      "metadata": {
        "id": "xKC6Jy11g5cG",
        "colab_type": "text"
      },
      "source": [
        "# Get Data"
      ]
    },
    {
      "cell_type": "code",
      "metadata": {
        "id": "PGTQrFzVg6p-",
        "colab_type": "code",
        "colab": {
          "base_uri": "https://localhost:8080/",
          "height": 34
        },
        "outputId": "c20dff21-fc17-4b61-f196-4fdb960a2b00"
      },
      "source": [
        "from sklearn.datasets import fetch_openml\n",
        "mnist = fetch_openml('mnist_784', version=1)\n",
        "mnist.keys()"
      ],
      "execution_count": 3,
      "outputs": [
        {
          "output_type": "execute_result",
          "data": {
            "text/plain": [
              "dict_keys(['data', 'target', 'feature_names', 'DESCR', 'details', 'categories', 'url'])"
            ]
          },
          "metadata": {
            "tags": []
          },
          "execution_count": 3
        }
      ]
    },
    {
      "cell_type": "code",
      "metadata": {
        "id": "el4Iyfargjfn",
        "colab_type": "code",
        "colab": {
          "base_uri": "https://localhost:8080/",
          "height": 34
        },
        "outputId": "bd18f152-54de-4abd-d3a4-4d7ce1dbcb2e"
      },
      "source": [
        "X, y = mnist['data'], mnist['target']\n",
        "X.shape"
      ],
      "execution_count": 4,
      "outputs": [
        {
          "output_type": "execute_result",
          "data": {
            "text/plain": [
              "(70000, 784)"
            ]
          },
          "metadata": {
            "tags": []
          },
          "execution_count": 4
        }
      ]
    },
    {
      "cell_type": "markdown",
      "metadata": {
        "id": "sG_ulI0Qiv1g",
        "colab_type": "text"
      },
      "source": [
        "This dataset has 70,000 images, each image has 784 features. That is because each image is 28 x 28 pixels. Each feature contains a pixel's value, from 0(white) to 255(black). "
      ]
    },
    {
      "cell_type": "code",
      "metadata": {
        "id": "572lgukFimRP",
        "colab_type": "code",
        "colab": {
          "base_uri": "https://localhost:8080/",
          "height": 248
        },
        "outputId": "ccb2c41b-5cb2-4341-9c11-107dea1ed903"
      },
      "source": [
        "import matplotlib as mpl\n",
        "import matplotlib.pyplot as plt\n",
        "\n",
        "some_digit = X[0]\n",
        "some_digit_image = some_digit.reshape(28, 28)\n",
        "plt.imshow(some_digit_image, cmap='binary')\n",
        "plt.axis('off')\n",
        "plt.show()\n",
        "#fig, axes = plt.subplots(5, 5, figsize=(25, 25))\n"
      ],
      "execution_count": 6,
      "outputs": [
        {
          "output_type": "display_data",
          "data": {
            "image/png": "[encoded data removed]",
            "text/plain": [
              "<Figure size 432x288 with 1 Axes>"
            ]
          },
          "metadata": {
            "tags": []
          }
        }
      ]
    },
    {
      "cell_type": "code",
      "metadata": {
        "id": "F04zCG7wis1O",
        "colab_type": "code",
        "colab": {
          "base_uri": "https://localhost:8080/",
          "height": 34
        },
        "outputId": "01646302-fd37-477f-e0fe-9c626d236efb"
      },
      "source": [
        "#looks like a five\n",
        "y[0]"
      ],
      "execution_count": 7,
      "outputs": [
        {
          "output_type": "execute_result",
          "data": {
            "text/plain": [
              "'5'"
            ]
          },
          "metadata": {
            "tags": []
          },
          "execution_count": 7
        }
      ]
    },
    {
      "cell_type": "code",
      "metadata": {
        "id": "cU32tagbjudO",
        "colab_type": "code",
        "colab": {}
      },
      "source": [
        "import numpy as np\n",
        "# change the data type of label from string to number since most of the ml algorithms expect numbers\n",
        "y = y.astype(np.uint8)"
      ],
      "execution_count": 0,
      "outputs": []
    },
    {
      "cell_type": "code",
      "metadata": {
        "id": "Orxtvkvuj5dU",
        "colab_type": "code",
        "colab": {
          "base_uri": "https://localhost:8080/",
          "height": 683
        },
        "outputId": "e1603f0e-96f6-450f-c253-031cacd24d6c"
      },
      "source": [
        "import random\n",
        "random_image_index = random.sample(range(70000), 100)\n",
        "\n",
        "fig = plt.figure(figsize=(12, 12))\n",
        "\n",
        "for i in range(100):\n",
        "  image = X[random_image_index[i]].reshape(28, 28)\n",
        "  ax = fig.add_subplot(10, 10, i+1)\n",
        "  ax.imshow(image, cmap='binary')\n",
        "  ax.axis('off')"
      ],
      "execution_count": 18,
      "outputs": [
        {
          "output_type": "display_data",
          "data": {
            "image/png": "[encoded data removed]",
            "text/plain": [
              "<Figure size 864x864 with 100 Axes>"
            ]
          },
          "metadata": {
            "tags": []
          }
        }
      ]
    },
    {
      "cell_type": "markdown",
      "metadata": {
        "id": "ssyydP9VqLOT",
        "colab_type": "text"
      },
      "source": [
        "Above shows 100 examples from our dataset. I personally think some of them are not easy to identify as human, for example, the sixth image in the first row looks like 4, 9, or even 7. Let's see how our model is gonna perform, hopefull better than human. We will need to split the dataset into train and test set. Fortunately, MNIST dataset makes it easy for us by already spliting the first 60,000 as train, and the remaining 10000 as test. And the train set has already shuffled! Sweet."
      ]
    },
    {
      "cell_type": "code",
      "metadata": {
        "id": "J7CagY6EpAdA",
        "colab_type": "code",
        "colab": {}
      },
      "source": [
        "X_train, X_test, y_train, y_test = X[:60000], X[60000:], y[:60000], y[60000:]"
      ],
      "execution_count": 0,
      "outputs": []
    },
    {
      "cell_type": "markdown",
      "metadata": {
        "id": "sLUgB_dPu2Wa",
        "colab_type": "text"
      },
      "source": [
        "# Train a binary classifier for number 5"
      ]
    },
    {
      "cell_type": "code",
      "metadata": {
        "id": "mbv3J5cNpF5U",
        "colab_type": "code",
        "colab": {}
      },
      "source": [
        "y_train_five = (y_train == 5)\n",
        "y_test_five = (y_test == 5)"
      ],
      "execution_count": 0,
      "outputs": []
    },
    {
      "cell_type": "code",
      "metadata": {
        "id": "clJafKE3tdIz",
        "colab_type": "code",
        "colab": {
          "base_uri": "https://localhost:8080/",
          "height": 119
        },
        "outputId": "6ac7d897-0836-4ff6-81cf-831cefae1c6a"
      },
      "source": [
        "from sklearn.linear_model import SGDClassifier\n",
        "\n",
        "sgd_clf = SGDClassifier(random_state=42)\n",
        "sgd_clf.fit(X_train, y_train_five)"
      ],
      "execution_count": 26,
      "outputs": [
        {
          "output_type": "execute_result",
          "data": {
            "text/plain": [
              "SGDClassifier(alpha=0.0001, average=False, class_weight=None,\n",
              "              early_stopping=False, epsilon=0.1, eta0=0.0, fit_intercept=True,\n",
              "              l1_ratio=0.15, learning_rate='optimal', loss='hinge',\n",
              "              max_iter=1000, n_iter_no_change=5, n_jobs=None, penalty='l2',\n",
              "              power_t=0.5, random_state=42, shuffle=True, tol=0.001,\n",
              "              validation_fraction=0.1, verbose=0, warm_start=False)"
            ]
          },
          "metadata": {
            "tags": []
          },
          "execution_count": 26
        }
      ]
    },
    {
      "cell_type": "code",
      "metadata": {
        "id": "j4a_wbVOvLDk",
        "colab_type": "code",
        "colab": {
          "base_uri": "https://localhost:8080/",
          "height": 34
        },
        "outputId": "023a9967-a083-4f45-d8bb-5e1166817170"
      },
      "source": [
        "sgd_clf.predict([X_train[random_image_index[-1]]])"
      ],
      "execution_count": 31,
      "outputs": [
        {
          "output_type": "execute_result",
          "data": {
            "text/plain": [
              "array([ True])"
            ]
          },
          "metadata": {
            "tags": []
          },
          "execution_count": 31
        }
      ]
    },
    {
      "cell_type": "markdown",
      "metadata": {
        "id": "0SmwGPq5wKMV",
        "colab_type": "text"
      },
      "source": [
        "It works."
      ]
    },
    {
      "cell_type": "markdown",
      "metadata": {
        "id": "2f9sS60twQnQ",
        "colab_type": "text"
      },
      "source": [
        "# Performance measures"
      ]
    },
    {
      "cell_type": "markdown",
      "metadata": {
        "id": "rRPTdYK8wTOr",
        "colab_type": "text"
      },
      "source": [
        "## Measuring Acuracy Using Cross-Validation"
      ]
    },
    {
      "cell_type": "code",
      "metadata": {
        "id": "s77yOAjhvo5a",
        "colab_type": "code",
        "colab": {
          "base_uri": "https://localhost:8080/",
          "height": 68
        },
        "outputId": "565b7adf-13b9-4467-9a47-3ce01e59fd5e"
      },
      "source": [
        "# implement cross-validation\n",
        "\n",
        "from sklearn.model_selection import StratifiedKFold\n",
        "from sklearn.base import clone\n",
        "\n",
        "sgd_clf = SGDClassifier(random_state=42)\n",
        "\n",
        "skfolds = StratifiedKFold(n_splits=3, random_state=42)\n",
        "for train_index, test_index in skfolds.split(X_train, y_train_five):\n",
        "  clone_clf = clone(sgd_clf)\n",
        "  X_train_folds = X_train[train_index]\n",
        "  y_train_folds = y_train_five[train_index]\n",
        "  X_test_folds = X_train[test_index]\n",
        "  y_test_folds = y_train_five[test_index]\n",
        "\n",
        "  clone_clf.fit(X_train_folds, y_train_folds)\n",
        "  y_pred = clone_clf.predict(X_test_folds)\n",
        "  accuracy = sum(y_test_folds == y_pred)/len(y_test_folds)\n",
        "  print(accuracy)\n",
        "\n"
      ],
      "execution_count": 34,
      "outputs": [
        {
          "output_type": "stream",
          "text": [
            "0.95035\n",
            "0.96035\n",
            "0.9604\n"
          ],
          "name": "stdout"
        }
      ]
    },
    {
      "cell_type": "code",
      "metadata": {
        "id": "HO76BbLVxhY2",
        "colab_type": "code",
        "colab": {
          "base_uri": "https://localhost:8080/",
          "height": 34
        },
        "outputId": "617b66de-d5a5-4e3a-9bdb-e3a1f401b504"
      },
      "source": [
        "# we can use sklearn to do the above\n",
        "from sklearn.model_selection import cross_val_score\n",
        "\n",
        "cross_val_score(sgd_clf, X_train, y_train, scoring='accuracy', cv=3)"
      ],
      "execution_count": 36,
      "outputs": [
        {
          "output_type": "execute_result",
          "data": {
            "text/plain": [
              "array([0.87082583, 0.87089354, 0.88628294])"
            ]
          },
          "metadata": {
            "tags": []
          },
          "execution_count": 36
        }
      ]
    },
    {
      "cell_type": "markdown",
      "metadata": {
        "id": "S16I_0Lezr3a",
        "colab_type": "text"
      },
      "source": [
        "The accuracy looks good. But that's not real. We can make a dump classifier that never predict 5, i.e. makes all the prediction as false."
      ]
    },
    {
      "cell_type": "code",
      "metadata": {
        "id": "bVp-lqTmzO_W",
        "colab_type": "code",
        "colab": {}
      },
      "source": [
        "from sklearn.base import BaseEstimator\n",
        "\n",
        "class NeverFiveClassifier(BaseEstimator):\n",
        "  def fit(self, X, y=None):\n",
        "    return self\n",
        "  def predict(self, X):\n",
        "    return np.zeros((len(X), 1), dtype=bool)"
      ],
      "execution_count": 0,
      "outputs": []
    },
    {
      "cell_type": "code",
      "metadata": {
        "id": "aKmWfdl9z--z",
        "colab_type": "code",
        "colab": {
          "base_uri": "https://localhost:8080/",
          "height": 34
        },
        "outputId": "1c3633e2-7f53-4056-db20-4d86caeeb0f5"
      },
      "source": [
        "never_five_clf = NeverFiveClassifier()\n",
        "cross_val_score(never_five_clf, X_train, y_train_five, cv=3, scoring='accuracy')"
      ],
      "execution_count": 39,
      "outputs": [
        {
          "output_type": "execute_result",
          "data": {
            "text/plain": [
              "array([0.91125, 0.90855, 0.90915])"
            ]
          },
          "metadata": {
            "tags": []
          },
          "execution_count": 39
        }
      ]
    },
    {
      "cell_type": "markdown",
      "metadata": {
        "id": "BAkhHGMD296a",
        "colab_type": "text"
      },
      "source": [
        "It's actually better than before. The reason for that is there is only 10% of dataset that contains 5. Such imbalanced dataset, using accuracy is bad idea."
      ]
    },
    {
      "cell_type": "markdown",
      "metadata": {
        "id": "kZHjzlLK4s_L",
        "colab_type": "text"
      },
      "source": [
        "## confusion matrix"
      ]
    },
    {
      "cell_type": "code",
      "metadata": {
        "id": "-BCsMf7926_c",
        "colab_type": "code",
        "colab": {}
      },
      "source": [
        "# use cross_val_predict so instead of getting scores, you get the predictions from each test fold\n",
        "\n",
        "from sklearn.model_selection import cross_val_predict\n",
        "\n",
        "y_train_predict = cross_val_predict(sgd_clf, X_train, y_train_five, cv=3)"
      ],
      "execution_count": 0,
      "outputs": []
    },
    {
      "cell_type": "code",
      "metadata": {
        "id": "l7XvLvTx3T8u",
        "colab_type": "code",
        "colab": {
          "base_uri": "https://localhost:8080/",
          "height": 51
        },
        "outputId": "5b2e467a-d9c2-4879-c5e5-dd2ebc3fda89"
      },
      "source": [
        "from sklearn.metrics import confusion_matrix\n",
        "confusion_matrix(y_train_five, y_train_predict)"
      ],
      "execution_count": 43,
      "outputs": [
        {
          "output_type": "execute_result",
          "data": {
            "text/plain": [
              "array([[53892,   687],\n",
              "       [ 1891,  3530]])"
            ]
          },
          "metadata": {
            "tags": []
          },
          "execution_count": 43
        }
      ]
    },
    {
      "cell_type": "markdown",
      "metadata": {
        "id": "JkMRcWSJ5-xy",
        "colab_type": "text"
      },
      "source": [
        "## precision and recall"
      ]
    },
    {
      "cell_type": "code",
      "metadata": {
        "id": "dEGaySzg5Svz",
        "colab_type": "code",
        "colab": {
          "base_uri": "https://localhost:8080/",
          "height": 34
        },
        "outputId": "36d2ebf4-a59d-4ed0-b709-695e393422bb"
      },
      "source": [
        "from sklearn.metrics import precision_score, recall_score\n",
        "\n",
        "precision_score(y_train_five, y_train_predict)"
      ],
      "execution_count": 45,
      "outputs": [
        {
          "output_type": "execute_result",
          "data": {
            "text/plain": [
              "0.8370879772350012"
            ]
          },
          "metadata": {
            "tags": []
          },
          "execution_count": 45
        }
      ]
    },
    {
      "cell_type": "code",
      "metadata": {
        "id": "L7uKeqlA6Gh4",
        "colab_type": "code",
        "colab": {
          "base_uri": "https://localhost:8080/",
          "height": 34
        },
        "outputId": "510c2247-49e1-4962-c736-463df4faf311"
      },
      "source": [
        "recall_score(y_train_five, y_train_predict)"
      ],
      "execution_count": 46,
      "outputs": [
        {
          "output_type": "execute_result",
          "data": {
            "text/plain": [
              "0.6511713705958311"
            ]
          },
          "metadata": {
            "tags": []
          },
          "execution_count": 46
        }
      ]
    },
    {
      "cell_type": "markdown",
      "metadata": {
        "id": "OViR5GQR6Ry-",
        "colab_type": "text"
      },
      "source": [
        "Now we can see the recall is much less than the precision score, and the accuracy score earlier. We can use F1 score which is the harmonic mean of precision and recall, and it gives much more weight to the low score."
      ]
    },
    {
      "cell_type": "code",
      "metadata": {
        "id": "gUUmP-tc6Qx4",
        "colab_type": "code",
        "colab": {
          "base_uri": "https://localhost:8080/",
          "height": 34
        },
        "outputId": "187679b0-c646-4f84-c69e-0976cc5b4dc3"
      },
      "source": [
        "from sklearn.metrics import f1_score\n",
        "\n",
        "f1_score(y_train_five, y_train_predict)"
      ],
      "execution_count": 48,
      "outputs": [
        {
          "output_type": "execute_result",
          "data": {
            "text/plain": [
              "0.7325171197343846"
            ]
          },
          "metadata": {
            "tags": []
          },
          "execution_count": 48
        }
      ]
    },
    {
      "cell_type": "markdown",
      "metadata": {
        "id": "2BQA6YW-8a7Z",
        "colab_type": "text"
      },
      "source": [
        "## precision and recall tradeoff"
      ]
    },
    {
      "cell_type": "code",
      "metadata": {
        "id": "93pKZQWb6ls_",
        "colab_type": "code",
        "colab": {}
      },
      "source": [
        "# we can use decision_function which can return the scores from which our classifier made the prediction, so that we can try to find the threshold to make better prediction.\n",
        "y_scores = cross_val_predict(sgd_clf, X_train, y_train_five, cv=3, method='decision_function')"
      ],
      "execution_count": 0,
      "outputs": []
    },
    {
      "cell_type": "code",
      "metadata": {
        "id": "Jy3sxmEr9Guk",
        "colab_type": "code",
        "colab": {}
      },
      "source": [
        "from sklearn.metrics import precision_recall_curve\n",
        "\n",
        "precision, recall, thresholds = precision_recall_curve(y_train_five, y_scores)"
      ],
      "execution_count": 0,
      "outputs": []
    },
    {
      "cell_type": "code",
      "metadata": {
        "id": "fg-HtQWd9f9z",
        "colab_type": "code",
        "colab": {
          "base_uri": "https://localhost:8080/",
          "height": 523
        },
        "outputId": "0cdfcc55-0e95-4108-a83e-ace5a110b34b"
      },
      "source": [
        "\n",
        "def plot_precision_recall_curve(precisions, recalls, thresholds):\n",
        "  plt.figure(figsize=(12, 8))\n",
        "  plt.plot(thresholds, precisions[:-1], 'b--', label='precision', linewidth=2)\n",
        "  plt.plot(thresholds, recalls[:-1], 'g-', label='recall', linewidth=2)\n",
        "  plt.xlabel('Threshold', fontweight='bold', fontsize=16)\n",
        "  plt.grid(True)\n",
        "  plt.legend(loc='center right', fontsize=16)\n",
        "  plt.axis([-50000, 50000, 0, 1])\n",
        "\n",
        "plot_precision_recall_curve(precision, recall, thresholds)\n",
        "plt.plot(3370, 0.9, 'ro')\n",
        "plt.plot(3370, 0.4798, 'ro')\n",
        "plt.plot([3370, 3370], [0, 0.9], \"r:\")\n",
        "plt.plot([-50000, 3370], [0.4798, 0.4798], 'r:')\n",
        "plt.plot([-50000, 3370], [0.9, 0.9], 'r:')"
      ],
      "execution_count": 78,
      "outputs": [
        {
          "output_type": "execute_result",
          "data": {
            "text/plain": [
              "[<matplotlib.lines.Line2D at 0x7f937b449ba8>]"
            ]
          },
          "metadata": {
            "tags": []
          },
          "execution_count": 78
        },
        {
          "output_type": "display_data",
          "data": {
            "image/png": "[encoded data removed]",
            "text/plain": [
              "<Figure size 864x576 with 1 Axes>"
            ]
          },
          "metadata": {
            "tags": []
          }
        }
      ]
    },
    {
      "cell_type": "markdown",
      "metadata": {
        "id": "WF_qLWOr-sIy",
        "colab_type": "text"
      },
      "source": [
        "Precision may be bumpier when the threshold increases. Here if we want to prioritize precison at 0.9, our recall will be about 0.4798. "
      ]
    },
    {
      "cell_type": "code",
      "metadata": {
        "id": "kkJjRGA69pnj",
        "colab_type": "code",
        "colab": {
          "base_uri": "https://localhost:8080/",
          "height": 34
        },
        "outputId": "1ea07303-01c9-4c96-b963-d84829a6a9df"
      },
      "source": [
        "np.argmax(precision>0.9)"
      ],
      "execution_count": 79,
      "outputs": [
        {
          "output_type": "execute_result",
          "data": {
            "text/plain": [
              "57075"
            ]
          },
          "metadata": {
            "tags": []
          },
          "execution_count": 79
        }
      ]
    },
    {
      "cell_type": "code",
      "metadata": {
        "id": "IXoV-mnZ9zTT",
        "colab_type": "code",
        "colab": {
          "base_uri": "https://localhost:8080/",
          "height": 34
        },
        "outputId": "5a4e5976-a046-438d-ef1c-f8be35b82bd7"
      },
      "source": [
        "threshold_at_90_precision = thresholds[np.argmax(precision>0.9)]\n",
        "y_train_pred_90 = (y_scores > threshold_at_90_precision)\n",
        "precision_score(y_train_five, y_train_pred_90)"
      ],
      "execution_count": 80,
      "outputs": [
        {
          "output_type": "execute_result",
          "data": {
            "text/plain": [
              "0.9"
            ]
          },
          "metadata": {
            "tags": []
          },
          "execution_count": 80
        }
      ]
    },
    {
      "cell_type": "code",
      "metadata": {
        "id": "SRbWfCtVCllW",
        "colab_type": "code",
        "colab": {
          "base_uri": "https://localhost:8080/",
          "height": 34
        },
        "outputId": "6ed01a38-0394-45e0-df55-032864760ef4"
      },
      "source": [
        "recall_score(y_train_five, y_train_pred_90)"
      ],
      "execution_count": 81,
      "outputs": [
        {
          "output_type": "execute_result",
          "data": {
            "text/plain": [
              "0.47980077476480354"
            ]
          },
          "metadata": {
            "tags": []
          },
          "execution_count": 81
        }
      ]
    },
    {
      "cell_type": "code",
      "metadata": {
        "id": "zFH82GkqFkIp",
        "colab_type": "code",
        "colab": {}
      },
      "source": [
        ""
      ],
      "execution_count": 0,
      "outputs": []
    }
  ]
}